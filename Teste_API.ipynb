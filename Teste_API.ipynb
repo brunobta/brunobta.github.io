{
  "nbformat": 4,
  "nbformat_minor": 0,
  "metadata": {
    "colab": {
      "name": "Teste_API.ipynb",
      "provenance": [],
      "collapsed_sections": [],
      "authorship_tag": "ABX9TyMkclxkUZLdz6loY/X2FMSD",
      "include_colab_link": true
    },
    "kernelspec": {
      "name": "python3",
      "display_name": "Python 3"
    }
  },
  "cells": [
    {
      "cell_type": "markdown",
      "metadata": {
        "id": "view-in-github",
        "colab_type": "text"
      },
      "source": [
        "<a href=\"https://colab.research.google.com/github/brunobta/brunobta.github.io/blob/master/Teste_API.ipynb\" target=\"_parent\"><img src=\"https://colab.research.google.com/assets/colab-badge.svg\" alt=\"Open In Colab\"/></a>"
      ]
    },
    {
      "cell_type": "code",
      "metadata": {
        "colab": {
          "base_uri": "https://localhost:8080/"
        },
        "id": "Mw2MemTwMzk7",
        "outputId": "13f7a0b6-aed1-4410-fea3-5d26e54e40f8"
      },
      "source": [
        "pip install requests "
      ],
      "execution_count": 2,
      "outputs": [
        {
          "output_type": "stream",
          "text": [
            "Requirement already satisfied: requests in /usr/local/lib/python3.7/dist-packages (2.23.0)\n",
            "Requirement already satisfied: idna<3,>=2.5 in /usr/local/lib/python3.7/dist-packages (from requests) (2.10)\n",
            "Requirement already satisfied: chardet<4,>=3.0.2 in /usr/local/lib/python3.7/dist-packages (from requests) (3.0.4)\n",
            "Requirement already satisfied: certifi>=2017.4.17 in /usr/local/lib/python3.7/dist-packages (from requests) (2020.12.5)\n",
            "Requirement already satisfied: urllib3!=1.25.0,!=1.25.1,<1.26,>=1.21.1 in /usr/local/lib/python3.7/dist-packages (from requests) (1.24.3)\n"
          ],
          "name": "stdout"
        }
      ]
    },
    {
      "cell_type": "code",
      "metadata": {
        "colab": {
          "base_uri": "https://localhost:8080/"
        },
        "id": "5OI7tq_6Olwb",
        "outputId": "aaa059d6-b2f1-4429-9678-77cd25cba867"
      },
      "source": [
        "import requests\r\n",
        "import json\r\n",
        "\r\n",
        "class ListaDeRepositorios():\r\n",
        "\r\n",
        "    def __init__(self, usuario):\r\n",
        "        self._usuario = usuario\r\n",
        "\r\n",
        "    def requisicao_api(self):\r\n",
        "        resposta = requests.get(\r\n",
        "            f'https://api.github.com/users/{self._usuario}/repos')\r\n",
        "        if resposta.status_code == 200:\r\n",
        "            return resposta.json()\r\n",
        "        else:\r\n",
        "            return resposta.status_code\r\n",
        "\r\n",
        "    def imprime_repositorios(self):\r\n",
        "        dados_api = self.requisicao_api()\r\n",
        "        if type(dados_api) is not int:\r\n",
        "            for i in range(len(dados_api)):\r\n",
        "                print(dados_api[i]['name'])\r\n",
        "        else:\r\n",
        "            print(dados_api)\r\n",
        "\r\n",
        "repositorios = ListaDeRepositorios('brunobta')\r\n",
        "repositorios.imprime_repositorios()"
      ],
      "execution_count": 41,
      "outputs": [
        {
          "output_type": "stream",
          "text": [
            "brunobta.github.io\n"
          ],
          "name": "stdout"
        }
      ]
    },
    {
      "cell_type": "code",
      "metadata": {
        "id": "hlKKFZZuSN5D"
      },
      "source": [
        "import json\r\n",
        "url = 'https://api.github.com/some/endpoint'\r\n",
        "payload = {'some': 'data'}\r\n",
        "headers = {'content-type': 'application/json'}\r\n",
        "r = requests.post(url, data=json.dumps(payload), headers=headers)"
      ],
      "execution_count": 45,
      "outputs": []
    },
    {
      "cell_type": "code",
      "metadata": {
        "colab": {
          "base_uri": "https://localhost:8080/"
        },
        "id": "bOZ1jspoSRDk",
        "outputId": "892410de-73c7-4473-959d-809f81d8d059"
      },
      "source": [
        "payload = {'key1': 'value1', 'key2': 'value2'}\r\n",
        "r = requests.post(\"http://httpbin.org/post\", data=payload)\r\n",
        "print(r.text)"
      ],
      "execution_count": 49,
      "outputs": [
        {
          "output_type": "stream",
          "text": [
            "{\n",
            "  \"args\": {}, \n",
            "  \"data\": \"\", \n",
            "  \"files\": {}, \n",
            "  \"form\": {\n",
            "    \"key1\": \"value1\", \n",
            "    \"key2\": \"value2\"\n",
            "  }, \n",
            "  \"headers\": {\n",
            "    \"Accept\": \"*/*\", \n",
            "    \"Accept-Encoding\": \"gzip, deflate\", \n",
            "    \"Content-Length\": \"23\", \n",
            "    \"Content-Type\": \"application/x-www-form-urlencoded\", \n",
            "    \"Host\": \"httpbin.org\", \n",
            "    \"User-Agent\": \"python-requests/2.23.0\", \n",
            "    \"X-Amzn-Trace-Id\": \"Root=1-60415ae5-17b8081c6b17654e634cacd6\"\n",
            "  }, \n",
            "  \"json\": null, \n",
            "  \"origin\": \"34.74.150.177\", \n",
            "  \"url\": \"http://httpbin.org/post\"\n",
            "}\n",
            "\n"
          ],
          "name": "stdout"
        }
      ]
    },
    {
      "cell_type": "code",
      "metadata": {
        "id": "SBfXNM2-SRJc"
      },
      "source": [
        ""
      ],
      "execution_count": null,
      "outputs": []
    }
  ]
}