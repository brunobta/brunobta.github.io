{
  "nbformat": 4,
  "nbformat_minor": 0,
  "metadata": {
    "colab": {
      "name": "Teste_API.ipynb",
      "provenance": [],
      "collapsed_sections": [],
      "authorship_tag": "ABX9TyODoUmuYVnu43bn5mQZG/uN",
      "include_colab_link": true
    },
    "kernelspec": {
      "name": "python3",
      "display_name": "Python 3"
    }
  },
  "cells": [
    {
      "cell_type": "markdown",
      "metadata": {
        "id": "view-in-github",
        "colab_type": "text"
      },
      "source": [
        "<a href=\"https://colab.research.google.com/github/brunobta/brunobta.github.io/blob/master/Teste_API.ipynb\" target=\"_parent\"><img src=\"https://colab.research.google.com/assets/colab-badge.svg\" alt=\"Open In Colab\"/></a>"
      ]
    },
    {
      "cell_type": "code",
      "metadata": {
        "colab": {
          "base_uri": "https://localhost:8080/"
        },
        "id": "Mw2MemTwMzk7",
        "outputId": "13f7a0b6-aed1-4410-fea3-5d26e54e40f8"
      },
      "source": [
        "pip install requests "
      ],
      "execution_count": 2,
      "outputs": [
        {
          "output_type": "stream",
          "text": [
            "Requirement already satisfied: requests in /usr/local/lib/python3.7/dist-packages (2.23.0)\n",
            "Requirement already satisfied: idna<3,>=2.5 in /usr/local/lib/python3.7/dist-packages (from requests) (2.10)\n",
            "Requirement already satisfied: chardet<4,>=3.0.2 in /usr/local/lib/python3.7/dist-packages (from requests) (3.0.4)\n",
            "Requirement already satisfied: certifi>=2017.4.17 in /usr/local/lib/python3.7/dist-packages (from requests) (2020.12.5)\n",
            "Requirement already satisfied: urllib3!=1.25.0,!=1.25.1,<1.26,>=1.21.1 in /usr/local/lib/python3.7/dist-packages (from requests) (1.24.3)\n"
          ],
          "name": "stdout"
        }
      ]
    },
    {
      "cell_type": "code",
      "metadata": {
        "colab": {
          "base_uri": "https://localhost:8080/"
        },
        "id": "5OI7tq_6Olwb",
        "outputId": "aaa059d6-b2f1-4429-9678-77cd25cba867"
      },
      "source": [
        "import requests\r\n",
        "import json\r\n",
        "\r\n",
        "class ListaDeRepositorios():\r\n",
        "\r\n",
        "    def __init__(self, usuario):\r\n",
        "        self._usuario = usuario\r\n",
        "\r\n",
        "    def requisicao_api(self):\r\n",
        "        resposta = requests.get(\r\n",
        "            f'https://api.github.com/users/{self._usuario}/repos')\r\n",
        "        if resposta.status_code == 200:\r\n",
        "            return resposta.json()\r\n",
        "        else:\r\n",
        "            return resposta.status_code\r\n",
        "\r\n",
        "    def imprime_repositorios(self):\r\n",
        "        dados_api = self.requisicao_api()\r\n",
        "        if type(dados_api) is not int:\r\n",
        "            for i in range(len(dados_api)):\r\n",
        "                print(dados_api[i]['name'])\r\n",
        "        else:\r\n",
        "            print(dados_api)\r\n",
        "\r\n",
        "repositorios = ListaDeRepositorios('brunobta')\r\n",
        "repositorios.imprime_repositorios()"
      ],
      "execution_count": 41,
      "outputs": [
        {
          "output_type": "stream",
          "text": [
            "brunobta.github.io\n"
          ],
          "name": "stdout"
        }
      ]
    }
  ]
}