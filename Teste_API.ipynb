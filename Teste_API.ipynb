{
  "nbformat": 4,
  "nbformat_minor": 0,
  "metadata": {
    "colab": {
      "name": "Teste_API.ipynb",
      "provenance": [],
      "collapsed_sections": [],
      "authorship_tag": "ABX9TyNQdm4BZn5SQTWH9oEEzMy4",
      "include_colab_link": true
    },
    "kernelspec": {
      "name": "python3",
      "display_name": "Python 3"
    }
  },
  "cells": [
    {
      "cell_type": "markdown",
      "metadata": {
        "id": "view-in-github",
        "colab_type": "text"
      },
      "source": [
        "<a href=\"https://colab.research.google.com/github/brunobta/brunobta.github.io/blob/master/Teste_API.ipynb\" target=\"_parent\"><img src=\"https://colab.research.google.com/assets/colab-badge.svg\" alt=\"Open In Colab\"/></a>"
      ]
    },
    {
      "cell_type": "code",
      "metadata": {
        "colab": {
          "base_uri": "https://localhost:8080/"
        },
        "id": "Mw2MemTwMzk7",
        "outputId": "13f7a0b6-aed1-4410-fea3-5d26e54e40f8"
      },
      "source": [
        "pip install requests "
      ],
      "execution_count": 2,
      "outputs": [
        {
          "output_type": "stream",
          "text": [
            "Requirement already satisfied: requests in /usr/local/lib/python3.7/dist-packages (2.23.0)\n",
            "Requirement already satisfied: idna<3,>=2.5 in /usr/local/lib/python3.7/dist-packages (from requests) (2.10)\n",
            "Requirement already satisfied: chardet<4,>=3.0.2 in /usr/local/lib/python3.7/dist-packages (from requests) (3.0.4)\n",
            "Requirement already satisfied: certifi>=2017.4.17 in /usr/local/lib/python3.7/dist-packages (from requests) (2020.12.5)\n",
            "Requirement already satisfied: urllib3!=1.25.0,!=1.25.1,<1.26,>=1.21.1 in /usr/local/lib/python3.7/dist-packages (from requests) (1.24.3)\n"
          ],
          "name": "stdout"
        }
      ]
    },
    {
      "cell_type": "code",
      "metadata": {
        "id": "sq9WOA9kOFyI"
      },
      "source": [
        "import requests\r\n",
        "import json"
      ],
      "execution_count": 4,
      "outputs": []
    },
    {
      "cell_type": "code",
      "metadata": {
        "id": "CWM2CDJ9OR1E"
      },
      "source": [
        "class ListaDeRepositorios():\r\n",
        "\r\n",
        "    def __init__(self, usuario):\r\n",
        "        self._usuario = usuario"
      ],
      "execution_count": 33,
      "outputs": []
    },
    {
      "cell_type": "code",
      "metadata": {
        "id": "rVvXJi0BNjsp"
      },
      "source": [
        "def requisicao_api(self):\r\n",
        "        resposta = requests.get(\r\n",
        "            f'https://api.github.com/users/{self._usuario}/repos')\r\n",
        "        if resposta.status_code == 200:\r\n",
        "            return resposta.json()\r\n",
        "        else:\r\n",
        "            return resposta.status_code"
      ],
      "execution_count": 34,
      "outputs": []
    },
    {
      "cell_type": "code",
      "metadata": {
        "id": "7gd3qoAeOTlQ"
      },
      "source": [
        "def imprime_repositorios(self):\r\n",
        "        dados_api = self.requisicao_api()\r\n",
        "        if type(dados_api) is not int:\r\n",
        "            for i in range(len(dados_api)):\r\n",
        "                print(dados_api[i]['name'])\r\n",
        "        else:\r\n",
        "            print(dados_api)"
      ],
      "execution_count": 35,
      "outputs": []
    },
    {
      "cell_type": "code",
      "metadata": {
        "id": "su1WyWtGOdZC"
      },
      "source": [
        "repositorios = ListaDeRepositorios('brunobta')"
      ],
      "execution_count": 37,
      "outputs": []
    },
    {
      "cell_type": "code",
      "metadata": {
        "id": "n_tgNMl-RRi1"
      },
      "source": [
        "repositorios."
      ],
      "execution_count": null,
      "outputs": []
    },
    {
      "cell_type": "code",
      "metadata": {
        "id": "roULboruROYe"
      },
      "source": [
        "repositorios.imprime_repositorios()"
      ],
      "execution_count": null,
      "outputs": []
    },
    {
      "cell_type": "code",
      "metadata": {
        "id": "5OI7tq_6Olwb"
      },
      "source": [
        ""
      ],
      "execution_count": null,
      "outputs": []
    }
  ]
}